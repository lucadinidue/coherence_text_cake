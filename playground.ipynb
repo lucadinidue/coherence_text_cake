{
 "cells": [
  {
   "cell_type": "code",
   "execution_count": 1,
   "id": "initial_id",
   "metadata": {
    "ExecuteTime": {
     "end_time": "2024-01-15T09:50:59.333414551Z",
     "start_time": "2024-01-15T09:50:59.168624137Z"
    }
   },
   "outputs": [],
   "source": [
    "from transformers import AutoModel, AutoTokenizer\n",
    "from datasets import load_dataset\n",
    "import pandas as pd\n",
    "import ast"
   ]
  },
  {
   "cell_type": "code",
   "execution_count": 2,
   "id": "911b062b-fa0f-422a-acbc-62e4ae42d5d2",
   "metadata": {},
   "outputs": [],
   "source": [
    "data_path = 'data/ted/en.tsv'"
   ]
  },
  {
   "cell_type": "code",
   "execution_count": 3,
   "id": "e685091fa678283c",
   "metadata": {
    "collapsed": false,
    "jupyter": {
     "outputs_hidden": false
    }
   },
   "outputs": [],
   "source": [
    "model_name = 'microsoft/deberta-v3-xsmall'"
   ]
  },
  {
   "cell_type": "code",
   "execution_count": 4,
   "id": "b5210adeda48b7af",
   "metadata": {
    "collapsed": false,
    "jupyter": {
     "outputs_hidden": false
    }
   },
   "outputs": [],
   "source": [
    "model = AutoModel.from_pretrained(model_name, output_hidden_states=True)\n",
    "tokenizer = AutoTokenizer.from_pretrained(model_name, use_fast=False)"
   ]
  },
  {
   "cell_type": "code",
   "execution_count": 5,
   "id": "4c5e0dd4-e62b-4dab-9b34-ab2e298ba229",
   "metadata": {},
   "outputs": [],
   "source": [
    "dataset = load_dataset('csv', data_files=data_path, sep='\\t', converters={'sentences': ast.literal_eval})"
   ]
  },
  {
   "cell_type": "code",
   "execution_count": 6,
   "id": "a963b8e8-fb6d-4324-8db2-1ba6f79ef817",
   "metadata": {},
   "outputs": [],
   "source": [
    "def preprocess_dataset(dataset, tokenizer):\n",
    "    dataset = dataset['train'].remove_columns('sub_sentences')\n",
    "\n",
    "    def concatenate_sentences(example):\n",
    "        example['sentences'] = ' '.join(example['sentences'])\n",
    "        return example\n",
    "    \n",
    "    dataset = dataset.map(concatenate_sentences, \n",
    "                          desc='Concatenatings passage sentences.')\n",
    "\n",
    "    def tokenize_dataset(examples):\n",
    "        tokenized_texts = tokenizer(examples['sentences'], padding=True, max_length=256, truncation=True)\n",
    "        return tokenized_texts\n",
    "\n",
    "    tokenized_dataset = dataset.map(\n",
    "            tokenize_dataset,\n",
    "            batched=True,\n",
    "            remove_columns=dataset.column_names,\n",
    "            desc=\"Running tokenizer on dataset\",\n",
    "        )\n",
    "\n",
    "    return tokenized_dataset"
   ]
  },
  {
   "cell_type": "code",
   "execution_count": 7,
   "id": "3a796e8e-d620-451d-9294-92de76aac923",
   "metadata": {},
   "outputs": [],
   "source": [
    "dataset = preprocess_dataset(dataset, tokenizer)"
   ]
  },
  {
   "cell_type": "code",
   "execution_count": 8,
   "id": "98b18170-3ddc-4f33-93d3-9f0d1549462c",
   "metadata": {},
   "outputs": [],
   "source": [
    "from transformers import default_data_collator\n",
    "from torch.utils.data import DataLoader\n",
    "import torch"
   ]
  },
  {
   "cell_type": "code",
   "execution_count": 9,
   "id": "10983004-af81-469d-8846-c398d22b431d",
   "metadata": {},
   "outputs": [],
   "source": [
    "data_collator = default_data_collator\n",
    "\n",
    "dataloader = DataLoader(dataset, shuffle=False, collate_fn=data_collator, batch_size=8)"
   ]
  },
  {
   "cell_type": "code",
   "execution_count": 19,
   "id": "33d8b8ae-1c28-4322-b464-a1ead56e4ade",
   "metadata": {},
   "outputs": [
    {
     "data": {
      "text/plain": [
       "DebertaV2Config {\n",
       "  \"_name_or_path\": \"microsoft/deberta-v3-xsmall\",\n",
       "  \"attention_probs_dropout_prob\": 0.1,\n",
       "  \"hidden_act\": \"gelu\",\n",
       "  \"hidden_dropout_prob\": 0.1,\n",
       "  \"hidden_size\": 384,\n",
       "  \"initializer_range\": 0.02,\n",
       "  \"intermediate_size\": 1536,\n",
       "  \"layer_norm_eps\": 1e-07,\n",
       "  \"max_position_embeddings\": 512,\n",
       "  \"max_relative_positions\": -1,\n",
       "  \"model_type\": \"deberta-v2\",\n",
       "  \"norm_rel_ebd\": \"layer_norm\",\n",
       "  \"num_attention_heads\": 6,\n",
       "  \"num_hidden_layers\": 12,\n",
       "  \"output_hidden_states\": true,\n",
       "  \"pad_token_id\": 0,\n",
       "  \"pooler_dropout\": 0,\n",
       "  \"pooler_hidden_act\": \"gelu\",\n",
       "  \"pooler_hidden_size\": 384,\n",
       "  \"pos_att_type\": [\n",
       "    \"p2c\",\n",
       "    \"c2p\"\n",
       "  ],\n",
       "  \"position_biased_input\": false,\n",
       "  \"position_buckets\": 256,\n",
       "  \"relative_attention\": true,\n",
       "  \"share_att_key\": true,\n",
       "  \"transformers_version\": \"4.36.2\",\n",
       "  \"type_vocab_size\": 0,\n",
       "  \"vocab_size\": 128100\n",
       "}"
      ]
     },
     "execution_count": 19,
     "metadata": {},
     "output_type": "execute_result"
    }
   ],
   "source": [
    "model.config"
   ]
  },
  {
   "cell_type": "code",
   "execution_count": null,
   "id": "2f25f702-85e4-4728-9179-3e5c8f6a5310",
   "metadata": {},
   "outputs": [],
   "source": [
    "layers_hidden_states = "
   ]
  },
  {
   "cell_type": "code",
   "execution_count": 17,
   "id": "8fa31627-0f8b-40e7-bb98-156a22735c08",
   "metadata": {},
   "outputs": [
    {
     "name": "stdout",
     "output_type": "stream",
     "text": [
      "tensor([ 87,  97,  86,  82,  81, 101,  74,  88])\n",
      "torch.Size([13, 87, 384])\n",
      "torch.Size([13, 97, 384])\n",
      "torch.Size([13, 86, 384])\n",
      "torch.Size([13, 82, 384])\n",
      "torch.Size([13, 81, 384])\n",
      "torch.Size([13, 101, 384])\n",
      "torch.Size([13, 74, 384])\n",
      "torch.Size([13, 88, 384])\n"
     ]
    }
   ],
   "source": [
    "model.eval()\n",
    "with torch.no_grad():\n",
    "    for step, batch in enumerate(dataloader):\n",
    "        # num_layers, batch_size, max_seq_len (max 215), hidden_size\n",
    "        hidden_states = model(**batch)['hidden_states']\n",
    "        non_pad_tokens = batch['attention_mask'].sum(axis=1)\n",
    "        # batch_size, num_layers, max_seq_len, hidden_size\n",
    "        hidden_states = torch.stack(hidden_states, dim=1)\n",
    "        for batch_idx in range(hidden_states.shape[0]):\n",
    "            passage_hidden_states = hidden_states[batch_idx, :, :non_pad_tokens[batch_idx], :]\n",
    "        break\n",
    "            "
   ]
  },
  {
   "cell_type": "code",
   "execution_count": 16,
   "id": "2ef18b51-8eef-4f79-a9a6-d2005f656950",
   "metadata": {},
   "outputs": [
    {
     "data": {
      "text/plain": [
       "torch.Size([13, 88, 384])"
      ]
     },
     "execution_count": 16,
     "metadata": {},
     "output_type": "execute_result"
    }
   ],
   "source": [
    "passage_hidden_states.shape"
   ]
  },
  {
   "cell_type": "code",
   "execution_count": null,
   "id": "08da583e-154f-433e-8191-045467475ab3",
   "metadata": {},
   "outputs": [],
   "source": [
    "hidden_states"
   ]
  },
  {
   "cell_type": "code",
   "execution_count": null,
   "id": "b69408aa-e2d9-4452-b045-84a1c01a2aac",
   "metadata": {},
   "outputs": [],
   "source": []
  }
 ],
 "metadata": {
  "kernelspec": {
   "display_name": "Python 3 (ipykernel)",
   "language": "python",
   "name": "python3"
  },
  "language_info": {
   "codemirror_mode": {
    "name": "ipython",
    "version": 3
   },
   "file_extension": ".py",
   "mimetype": "text/x-python",
   "name": "python",
   "nbconvert_exporter": "python",
   "pygments_lexer": "ipython3",
   "version": "3.10.12"
  }
 },
 "nbformat": 4,
 "nbformat_minor": 5
}
